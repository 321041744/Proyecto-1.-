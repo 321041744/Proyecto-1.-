{
  "nbformat": 4,
  "nbformat_minor": 0,
  "metadata": {
    "colab": {
      "provenance": [],
      "authorship_tag": "ABX9TyPi90rqrbbHUT0A44rk66c1",
      "include_colab_link": true
    },
    "kernelspec": {
      "name": "python3",
      "display_name": "Python 3"
    },
    "language_info": {
      "name": "python"
    }
  },
  "cells": [
    {
      "cell_type": "markdown",
      "metadata": {
        "id": "view-in-github",
        "colab_type": "text"
      },
      "source": [
        "<a href=\"https://colab.research.google.com/github/321041744/Proyecto-1.-/blob/main/Untitled3.ipynb\" target=\"_parent\"><img src=\"https://colab.research.google.com/assets/colab-badge.svg\" alt=\"Open In Colab\"/></a>"
      ]
    },
    {
      "cell_type": "code",
      "source": [
        "#ALUMNA: Eunice Corro.\n",
        "#PROYECTO 1\n",
        "\n",
        "from google.colab import drive\n",
        "import numpy as np\n",
        "import pandas as pd\n",
        "\n",
        "drive.mount('/content/gdrive')\n",
        "\n",
        "def leer_archivo(arch_excel):\n",
        "    arch = pd.read_excel(arch_excel)\n",
        "    return arch\n",
        "\n",
        "def extraer_columnas(datos):\n",
        "    actividad = datos['Actividad']\n",
        "    precedentes = datos['Precedentes'].fillna('')\n",
        "    duracion = datos['Duracion']\n",
        "    return (actividad, precedentes, duracion)\n",
        "    infile = '/content/gdrive/My Drive/PROYECTO 1.xlsx'\n",
        "    datos = leer_archivo(infile)\n",
        "    print(datos)\n",
        "    act, prec, dur = extraer_columnas(datos)\n",
        "    g = Grafica_dirigida()\n",
        "\n",
        "# Definimos los nodos:\n",
        "nodos = {}\n",
        "\n",
        "# Sus precedentes y duración\n",
        "nodos[1] = {\"precedentes\": [], \"duracion\": 3}\n",
        "nodos[2] = {\"precedentes\": [1], \"duracion\": 15}\n",
        "nodos[3] = {\"precedentes\": [2], \"duracion\": 10}\n",
        "nodos[4] = {\"precedentes\": [3], \"duracion\": 2}\n",
        "nodos[5] = {\"precedentes\": [4], \"duracion\": 8}\n",
        "nodos[6] = {\"precedentes\": [4], \"duracion\": 10}\n",
        "nodos[7] = {\"precedentes\": [4], \"duracion\": 10}\n",
        "nodos[8] = {\"precedentes\": [4], \"duracion\": 8}\n",
        "nodos[9] = {\"precedentes\": [4], \"duracion\": 5}\n",
        "nodos[10] = {\"precedentes\": [5], \"duracion\": 20}\n",
        "nodos[11] = {\"precedentes\": [6], \"duracion\": 10}\n",
        "nodos[12] = {\"precedentes\": [7], \"duracion\": 8}\n",
        "nodos[13] = {\"precedentes\": [8], \"duracion\": 6}\n",
        "nodos[14] = {\"precedentes\": [11], \"duracion\": 10}\n",
        "nodos[15] = {\"precedentes\": [10,14], \"duracion\": 20}\n",
        "nodos[16] = {\"precedentes\": [12, 13, 18], \"duracion\": 15}\n",
        "nodos[17] = {\"precedentes\": [9,16], \"duracion\": 10}\n",
        "nodos[18] = {\"precedentes\": [15], \"duracion\": 3}\n",
        "nodos[19] = {\"precedentes\": [18], \"duracion\": 8}\n",
        "nodos[20] = {\"precedentes\": [17,19], \"duracion\": 8}\n",
        "nodos[21] = {\"precedentes\": [20], \"duracion\": 8}\n",
        "\n",
        "\n",
        "# Calcular los primeros tiempos:\n",
        "def calcular_primeros_tiempos(inicio_nodos):\n",
        "    primeros_tiempos = {}\n",
        "    for nodo in nodos:\n",
        "        primeros_tiempos[nodo] = {\"inicio\": float(\"inf\"), \"inicio_min\": float(\"inf\")}\n",
        "\n",
        "    for nodo in inicio_nodos:\n",
        "        primeros_tiempos[nodo][\"inicio\"] = 0\n",
        "        primeros_tiempos[nodo][\"inicio_min\"] = 0\n",
        "\n",
        "    for nodo in nodos:\n",
        "        for pred in nodos[nodo][\"precedentes\"]:\n",
        "            if primeros_tiempos[pred][\"inicio\"] != float(\"inf\"):\n",
        "                primeros_tiempos[nodo][\"inicio\"] = max(primeros_tiempos[pred][\"inicio\"], primeros_tiempos[pred][\"inicio_min\"]) + nodos[nodo][\"duracion\"]\n",
        "                primeros_tiempos[nodo][\"inicio_min\"] = max(primeros_tiempos[pred][\"inicio_min\"], primeros_tiempos[pred][\"inicio_min\"] + nodos[nodo][\"duracion\"])\n",
        "\n",
        "    return primeros_tiempos\n",
        "\n",
        "primeros_tiempos = calcular_primeros_tiempos(inicio_nodos)\n",
        "print(\"Primeros tiempos:\", primeros_tiempos)\n",
        "\n",
        "# Calcular los últimos tiempos:\n",
        "def calcular_ultimos_tiempos(primeros_tiempos):\n",
        "    ultimos_tiempos = {}\n",
        "    for nodo in nodos:\n",
        "        ultimos_tiempos[nodo] = {\"inicio\": 0, \"inicio_max\": 0, \"final\": 0, \"final_max\": 0}\n",
        "\n",
        "    duracion_total = sum([nodos[nodo][\"duracion\"] for nodo in nodos])\n",
        "\n",
        "    for nodo in reversed(list(nodos)):\n",
        "        for succ in nodos[nodo][\"precedentes\"]:\n",
        "            if ultimos_tiempos[succ][\"final\"] != 0:\n",
        "                ultimos_tiempos[nodo][\"inicio\"] = ultimos_tiempos[succ][\"inicio\"] - nodos[nodo][\"duracion\"]\n",
        "                ultimos_tiempos[nodo][\"inicio_max\"] = ultimos_tiempos[succ][\"inicio_max\"] - nodos[nodo][\"duracion\"]\n",
        "                ultimos_tiempos[nodo][\"final\"] = duracion_total - nodos[nodo][\"duracion\"]\n",
        "                ultimos_tiempos[nodo][\"final_max\"] = ultimos_tiempos[succ][\"final_max\"] - nodos[nodo][\"duracion\"]\n",
        "\n",
        "    return ultimos_tiempos\n",
        "\n",
        "ultimos_tiempos = calcular_ultimos_tiempos(primeros_tiempos)\n",
        "print(\"Últimos tiempos:\", ultimos_tiempos)\n",
        "\n",
        "# Imprimir las fechas más próximas y fechas más lejanas:\n",
        "for nodo in nodos:\n",
        "    inicio = primeros_tiempos[nodo][\"inicio\"]\n",
        "    final = ultimos_tiempos[nodo][\"final\"]\n",
        "    print(\"Nodo {}: Inicio más próximo: {}, Inicio más lejano: {}, Final más próximo: {}, Final más lejano: {}\".format(nodo, inicio, primeros_tiempos[nodo][\"inicio_min\"], final, ultimos_tiempos[nodo][\"final_max\"]))"
      ],
      "metadata": {
        "colab": {
          "base_uri": "https://localhost:8080/"
        },
        "id": "L4tnzvsS8GW6",
        "outputId": "63f6275e-1359-4b6e-9b5e-c6ebda31322f"
      },
      "execution_count": 35,
      "outputs": [
        {
          "output_type": "stream",
          "name": "stdout",
          "text": [
            "Drive already mounted at /content/gdrive; to attempt to forcibly remount, call drive.mount(\"/content/gdrive\", force_remount=True).\n",
            "Primeros tiempos: {1: {'inicio': 0, 'inicio_min': 0}, 2: {'inicio': 15, 'inicio_min': 15}, 3: {'inicio': 25, 'inicio_min': 25}, 4: {'inicio': 27, 'inicio_min': 27}, 5: {'inicio': 35, 'inicio_min': 35}, 6: {'inicio': 37, 'inicio_min': 37}, 7: {'inicio': 37, 'inicio_min': 37}, 8: {'inicio': 35, 'inicio_min': 35}, 9: {'inicio': 32, 'inicio_min': 32}, 10: {'inicio': 55, 'inicio_min': 55}, 11: {'inicio': 47, 'inicio_min': 47}, 12: {'inicio': 45, 'inicio_min': 45}, 13: {'inicio': 41, 'inicio_min': 41}, 14: {'inicio': 57, 'inicio_min': 57}, 15: {'inicio': 77, 'inicio_min': 77}, 16: {'inicio': 56, 'inicio_min': 56}, 17: {'inicio': 66, 'inicio_min': 66}, 18: {'inicio': 80, 'inicio_min': 80}, 19: {'inicio': 88, 'inicio_min': 88}, 20: {'inicio': 96, 'inicio_min': 96}, 21: {'inicio': 104, 'inicio_min': 104}}\n",
            "Últimos tiempos: {1: {'inicio': 0, 'inicio_max': 0, 'final': 0, 'final_max': 0}, 2: {'inicio': 0, 'inicio_max': 0, 'final': 0, 'final_max': 0}, 3: {'inicio': 0, 'inicio_max': 0, 'final': 0, 'final_max': 0}, 4: {'inicio': 0, 'inicio_max': 0, 'final': 0, 'final_max': 0}, 5: {'inicio': 0, 'inicio_max': 0, 'final': 0, 'final_max': 0}, 6: {'inicio': 0, 'inicio_max': 0, 'final': 0, 'final_max': 0}, 7: {'inicio': 0, 'inicio_max': 0, 'final': 0, 'final_max': 0}, 8: {'inicio': 0, 'inicio_max': 0, 'final': 0, 'final_max': 0}, 9: {'inicio': 0, 'inicio_max': 0, 'final': 0, 'final_max': 0}, 10: {'inicio': 0, 'inicio_max': 0, 'final': 0, 'final_max': 0}, 11: {'inicio': 0, 'inicio_max': 0, 'final': 0, 'final_max': 0}, 12: {'inicio': 0, 'inicio_max': 0, 'final': 0, 'final_max': 0}, 13: {'inicio': 0, 'inicio_max': 0, 'final': 0, 'final_max': 0}, 14: {'inicio': 0, 'inicio_max': 0, 'final': 0, 'final_max': 0}, 15: {'inicio': 0, 'inicio_max': 0, 'final': 0, 'final_max': 0}, 16: {'inicio': 0, 'inicio_max': 0, 'final': 0, 'final_max': 0}, 17: {'inicio': 0, 'inicio_max': 0, 'final': 0, 'final_max': 0}, 18: {'inicio': 0, 'inicio_max': 0, 'final': 0, 'final_max': 0}, 19: {'inicio': 0, 'inicio_max': 0, 'final': 0, 'final_max': 0}, 20: {'inicio': 0, 'inicio_max': 0, 'final': 0, 'final_max': 0}, 21: {'inicio': 0, 'inicio_max': 0, 'final': 0, 'final_max': 0}}\n",
            "Nodo 1: Inicio más próximo: 0, Inicio más lejano: 0, Final más próximo: 0, Final más lejano: 0\n",
            "Nodo 2: Inicio más próximo: 15, Inicio más lejano: 15, Final más próximo: 0, Final más lejano: 0\n",
            "Nodo 3: Inicio más próximo: 25, Inicio más lejano: 25, Final más próximo: 0, Final más lejano: 0\n",
            "Nodo 4: Inicio más próximo: 27, Inicio más lejano: 27, Final más próximo: 0, Final más lejano: 0\n",
            "Nodo 5: Inicio más próximo: 35, Inicio más lejano: 35, Final más próximo: 0, Final más lejano: 0\n",
            "Nodo 6: Inicio más próximo: 37, Inicio más lejano: 37, Final más próximo: 0, Final más lejano: 0\n",
            "Nodo 7: Inicio más próximo: 37, Inicio más lejano: 37, Final más próximo: 0, Final más lejano: 0\n",
            "Nodo 8: Inicio más próximo: 35, Inicio más lejano: 35, Final más próximo: 0, Final más lejano: 0\n",
            "Nodo 9: Inicio más próximo: 32, Inicio más lejano: 32, Final más próximo: 0, Final más lejano: 0\n",
            "Nodo 10: Inicio más próximo: 55, Inicio más lejano: 55, Final más próximo: 0, Final más lejano: 0\n",
            "Nodo 11: Inicio más próximo: 47, Inicio más lejano: 47, Final más próximo: 0, Final más lejano: 0\n",
            "Nodo 12: Inicio más próximo: 45, Inicio más lejano: 45, Final más próximo: 0, Final más lejano: 0\n",
            "Nodo 13: Inicio más próximo: 41, Inicio más lejano: 41, Final más próximo: 0, Final más lejano: 0\n",
            "Nodo 14: Inicio más próximo: 57, Inicio más lejano: 57, Final más próximo: 0, Final más lejano: 0\n",
            "Nodo 15: Inicio más próximo: 77, Inicio más lejano: 77, Final más próximo: 0, Final más lejano: 0\n",
            "Nodo 16: Inicio más próximo: 56, Inicio más lejano: 56, Final más próximo: 0, Final más lejano: 0\n",
            "Nodo 17: Inicio más próximo: 66, Inicio más lejano: 66, Final más próximo: 0, Final más lejano: 0\n",
            "Nodo 18: Inicio más próximo: 80, Inicio más lejano: 80, Final más próximo: 0, Final más lejano: 0\n",
            "Nodo 19: Inicio más próximo: 88, Inicio más lejano: 88, Final más próximo: 0, Final más lejano: 0\n",
            "Nodo 20: Inicio más próximo: 96, Inicio más lejano: 96, Final más próximo: 0, Final más lejano: 0\n",
            "Nodo 21: Inicio más próximo: 104, Inicio más lejano: 104, Final más próximo: 0, Final más lejano: 0\n"
          ]
        }
      ]
    },
    {
      "cell_type": "code",
      "source": [],
      "metadata": {
        "id": "2OHPGA_vF85e"
      },
      "execution_count": null,
      "outputs": []
    }
  ]
}